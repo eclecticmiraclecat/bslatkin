{
 "cells": [
  {
   "cell_type": "markdown",
   "metadata": {},
   "source": [
    "## When do you refactor\n",
    "- In advance\n",
    "- For testing\n",
    "- DRY\n",
    "- Brittleness\n",
    "- Complexity"
   ]
  },
  {
   "cell_type": "markdown",
   "metadata": {},
   "source": [
    "## Original"
   ]
  },
  {
   "cell_type": "code",
   "execution_count": 8,
   "metadata": {},
   "outputs": [],
   "source": [
    "# When should you eat certain foods?\n",
    "\n",
    "MONTHS = ('January', 'February', 'March', 'April', 'May', 'June', 'July', 'August', 'September', 'October', 'November', 'December')\n",
    "\n",
    "def what_to_eat(month):\n",
    "    \n",
    "    if (month.lower().endswith('r') or month.lower().endswith('ary')):\n",
    "        print(f'{month}: oysters')\n",
    "    elif 8 > MONTHS.index(month) > 4:\n",
    "        print(f'{month}: tomatoes')\n",
    "    else:\n",
    "        print(f'{month}: asparagus')"
   ]
  },
  {
   "cell_type": "code",
   "execution_count": 9,
   "metadata": {},
   "outputs": [
    {
     "name": "stdout",
     "output_type": "stream",
     "text": [
      "November: oysters\n",
      "July: tomatoes\n",
      "March: asparagus\n"
     ]
    }
   ],
   "source": [
    "what_to_eat('November')\n",
    "what_to_eat('July')\n",
    "what_to_eat('March')"
   ]
  },
  {
   "cell_type": "markdown",
   "metadata": {},
   "source": [
    "***\n",
    "## Extract Variable"
   ]
  },
  {
   "cell_type": "code",
   "execution_count": 10,
   "metadata": {},
   "outputs": [],
   "source": [
    "# When should you eat certain foods?\n",
    "\n",
    "MONTHS = ('January', 'February', 'March', 'April', 'May', 'June', 'July', 'August', 'September', 'October', 'November', 'December')\n",
    "\n",
    "def what_to_eat(month):\n",
    "\n",
    "    lowered = month.lower()\n",
    "    ends_in_r = lowered.endswith('r')\n",
    "    ends_in_ary = lowered.endswith('ary')\n",
    "    index = MONTHS.index(month)\n",
    "    summer = 8 > index > 4\n",
    "\n",
    "\n",
    "    if ends_in_r or ends_in_ary:\n",
    "        print(f'{month}: oysters')\n",
    "    elif summer:\n",
    "        print(f'{month}: tomatoes')\n",
    "    else:\n",
    "        print(f'{month}: asparagus')"
   ]
  },
  {
   "cell_type": "code",
   "execution_count": 11,
   "metadata": {},
   "outputs": [
    {
     "name": "stdout",
     "output_type": "stream",
     "text": [
      "November: oysters\n",
      "July: tomatoes\n",
      "March: asparagus\n"
     ]
    }
   ],
   "source": [
    "what_to_eat('November')\n",
    "what_to_eat('July')\n",
    "what_to_eat('March')"
   ]
  },
  {
   "cell_type": "markdown",
   "metadata": {},
   "source": [
    "***\n",
    "## Extract Variable into Functions"
   ]
  },
  {
   "cell_type": "code",
   "execution_count": 12,
   "metadata": {},
   "outputs": [],
   "source": [
    "# When should you eat certain foods?\n",
    "\n",
    "MONTHS = ('January', 'February', 'March', 'April', 'May', 'June', 'July', 'August', 'September', 'October', 'November', 'December')\n",
    "\n",
    "def oysters_good(month):\n",
    "    lowered = month.lower()\n",
    "    return (lowered.endswith('r') or lowered.endswith('ary'))\n",
    "\n",
    "def tomatoes_good(month):\n",
    "    index = MONTHS.index(month)\n",
    "    return 8 > index > 4\n",
    "\n",
    "def what_to_eat(month):\n",
    "\n",
    "    if oysters_good(month):\n",
    "        print(f'{month}: oysters')\n",
    "    elif tomatoes_good(month):\n",
    "        print(f'{month}: tomatoes')\n",
    "    else:\n",
    "        print(f'{month}: asparagus')"
   ]
  },
  {
   "cell_type": "code",
   "execution_count": 13,
   "metadata": {},
   "outputs": [
    {
     "name": "stdout",
     "output_type": "stream",
     "text": [
      "November: oysters\n",
      "July: tomatoes\n",
      "March: asparagus\n"
     ]
    }
   ],
   "source": [
    "what_to_eat('November')\n",
    "what_to_eat('July')\n",
    "what_to_eat('March')"
   ]
  },
  {
   "cell_type": "markdown",
   "metadata": {},
   "source": [
    "***\n",
    "## Using functions with variables"
   ]
  },
  {
   "cell_type": "code",
   "execution_count": 14,
   "metadata": {},
   "outputs": [],
   "source": [
    "# When should you eat certain foods?\n",
    "\n",
    "MONTHS = ('January', 'February', 'March', 'April', 'May', 'June', 'July', 'August', 'September', 'October', 'November', 'December')\n",
    "\n",
    "def oysters_good(month):\n",
    "    lowered = month.lower()\n",
    "    return (lowered.endswith('r') or lowered.endswith('ary'))\n",
    "\n",
    "def tomatoes_good(month):\n",
    "    index = MONTHS.index(month)\n",
    "    return 8 > index > 4\n",
    "\n",
    "def what_to_eat(month):\n",
    "\n",
    "    time_for_oysters = oysters_good(month)\n",
    "    time_for_tomatoes = tomatoes_good(month)\n",
    "    \n",
    "    if time_for_oysters:\n",
    "        print(f'{month}: oysters')\n",
    "    elif time_for_tomatoes:\n",
    "        print(f'{month}: tomatoes')\n",
    "    else:\n",
    "        print(f'{month}: asparagus')"
   ]
  },
  {
   "cell_type": "code",
   "execution_count": 15,
   "metadata": {},
   "outputs": [
    {
     "name": "stdout",
     "output_type": "stream",
     "text": [
      "November: oysters\n",
      "July: tomatoes\n",
      "March: asparagus\n"
     ]
    }
   ],
   "source": [
    "what_to_eat('November')\n",
    "what_to_eat('July')\n",
    "what_to_eat('March')"
   ]
  },
  {
   "cell_type": "markdown",
   "metadata": {},
   "source": [
    "***\n",
    "## Extract variables into classes"
   ]
  },
  {
   "cell_type": "code",
   "execution_count": 18,
   "metadata": {},
   "outputs": [],
   "source": [
    "# When should you eat certain foods?\n",
    "\n",
    "MONTHS = ('January', 'February', 'March', 'April', 'May', 'June', 'July', 'August', 'September', 'October', 'November', 'December')\n",
    "\n",
    "class OystersGood:\n",
    "    def __init__(self, month):\n",
    "        lowered = month.lower()\n",
    "        self.r = lowered.endswith('r')\n",
    "        self.ary = lowered.endswith('ary')\n",
    "        self._result = self.r or self.ary\n",
    "        \n",
    "    def __bool__(self):\n",
    "        return self._result\n",
    "    \n",
    "\n",
    "class TomatoesGood:\n",
    "    def __init__(self, month):\n",
    "        self.index = MONTHS.index(month)\n",
    "        self._result = 8 > self.index > 4\n",
    "        \n",
    "    def __bool__(self):\n",
    "        return self._result\n",
    "\n",
    "def what_to_eat(month):\n",
    "\n",
    "    time_for_oysters = OystersGood(month)\n",
    "    time_for_tomatoes = TomatoesGood(month)\n",
    "    \n",
    "    if time_for_oysters:\n",
    "        print(f'{month}: oysters')\n",
    "    elif time_for_tomatoes:\n",
    "        print(f'{month}: tomatoes')\n",
    "    else:\n",
    "        print(f'{month}: asparagus')"
   ]
  },
  {
   "cell_type": "code",
   "execution_count": 19,
   "metadata": {},
   "outputs": [
    {
     "name": "stdout",
     "output_type": "stream",
     "text": [
      "November: oysters\n",
      "July: tomatoes\n",
      "March: asparagus\n"
     ]
    }
   ],
   "source": [
    "what_to_eat('November')\n",
    "what_to_eat('July')\n",
    "what_to_eat('March')"
   ]
  },
  {
   "cell_type": "markdown",
   "metadata": {},
   "source": [
    "## Things to remember\n",
    "- Extract variables and funtions to improve readability\n",
    "- Extract variables into classes to improve testability\n",
    "- Use `__bool__` to indicate a class is a paper trail"
   ]
  },
  {
   "cell_type": "markdown",
   "metadata": {},
   "source": [
    "***\n",
    "## Extract Class & Move Fields"
   ]
  },
  {
   "cell_type": "code",
   "execution_count": 20,
   "metadata": {},
   "outputs": [],
   "source": [
    "# Keeping track of your pets\n",
    "\n",
    "class Pet:\n",
    "    def __init__(self, name):\n",
    "        self.name = name"
   ]
  },
  {
   "cell_type": "code",
   "execution_count": 26,
   "metadata": {},
   "outputs": [
    {
     "ename": "TypeError",
     "evalue": "__init__() missing 1 required positional argument: 'age'",
     "output_type": "error",
     "traceback": [
      "\u001b[0;31m---------------------------------------------------------------------------\u001b[0m",
      "\u001b[0;31mTypeError\u001b[0m                                 Traceback (most recent call last)",
      "\u001b[0;32m<ipython-input-26-1438019b6156>\u001b[0m in \u001b[0;36m<module>\u001b[0;34m\u001b[0m\n\u001b[0;32m----> 1\u001b[0;31m \u001b[0mpet\u001b[0m \u001b[0;34m=\u001b[0m \u001b[0mPet\u001b[0m\u001b[0;34m(\u001b[0m\u001b[0;34m'Gregory the Gila'\u001b[0m\u001b[0;34m)\u001b[0m\u001b[0;34m\u001b[0m\u001b[0;34m\u001b[0m\u001b[0m\n\u001b[0m\u001b[1;32m      2\u001b[0m \u001b[0;34m\u001b[0m\u001b[0m\n\u001b[1;32m      3\u001b[0m \u001b[0mprint\u001b[0m\u001b[0;34m(\u001b[0m\u001b[0mpet\u001b[0m\u001b[0;34m.\u001b[0m\u001b[0mname\u001b[0m\u001b[0;34m)\u001b[0m\u001b[0;34m\u001b[0m\u001b[0;34m\u001b[0m\u001b[0m\n",
      "\u001b[0;31mTypeError\u001b[0m: __init__() missing 1 required positional argument: 'age'"
     ]
    }
   ],
   "source": [
    "pet = Pet('Gregory the Gila')\n",
    "\n",
    "print(pet.name)"
   ]
  },
  {
   "cell_type": "code",
   "execution_count": 22,
   "metadata": {},
   "outputs": [],
   "source": [
    "# Keeping track of your pet's age\n",
    "\n",
    "class Pet:\n",
    "    def __init__(self, name, age):\n",
    "        self.name = name\n",
    "        self.age = age"
   ]
  },
  {
   "cell_type": "code",
   "execution_count": 27,
   "metadata": {},
   "outputs": [
    {
     "name": "stdout",
     "output_type": "stream",
     "text": [
      "Gregory the Gila is 3 years old\n"
     ]
    }
   ],
   "source": [
    "pet = Pet('Gregory the Gila', 3)\n",
    "\n",
    "print(f'{pet.name} is {pet.age} years old')"
   ]
  },
  {
   "cell_type": "code",
   "execution_count": 24,
   "metadata": {},
   "outputs": [],
   "source": [
    "# Keeping track of your pet's treats\n",
    "\n",
    "class Pet:\n",
    "    def __init__(self, name, age):\n",
    "        self.name = name\n",
    "        self.age = age\n",
    "        self.treats_eaten = 0\n",
    "        \n",
    "    def give_treats(self, count):\n",
    "        self.treats_eaten += count"
   ]
  },
  {
   "cell_type": "code",
   "execution_count": 28,
   "metadata": {},
   "outputs": [
    {
     "name": "stdout",
     "output_type": "stream",
     "text": [
      "Gregory the Gila ate 2 treats\n"
     ]
    }
   ],
   "source": [
    "pet = Pet('Gregory the Gila', 3)\n",
    "\n",
    "pet.give_treats(2)\n",
    "\n",
    "print(f'{pet.name} ate {pet.treats_eaten} treats')"
   ]
  },
  {
   "cell_type": "code",
   "execution_count": 29,
   "metadata": {},
   "outputs": [],
   "source": [
    "# Keeping track of your pet's needs\n",
    "\n",
    "class Pet:\n",
    "    def __init__(self, name, age, *, has_scales=False, lays_eggs=False, drinks_milk=False):\n",
    "        self.name = name\n",
    "        self.age = age\n",
    "        self.treats_eaten = 0\n",
    "        self.has_scales = has_scales\n",
    "        self.lays_eggs = lays_eggs\n",
    "        self.drinks_milk = drinks_milk\n",
    "        \n",
    "    def give_treats(self, count):\n",
    "        self.treats_eaten += count\n",
    "        \n",
    "    @property\n",
    "    def needs_heat_lamp(self):\n",
    "        return (self.has_scales and self.lays_eggs and not self.drinks_milk)"
   ]
  },
  {
   "cell_type": "code",
   "execution_count": 30,
   "metadata": {},
   "outputs": [
    {
     "name": "stdout",
     "output_type": "stream",
     "text": [
      "Gregory the Gila needs a heat lamp? True\n"
     ]
    }
   ],
   "source": [
    "pet = Pet('Gregory the Gila', 3, has_scales=True, lays_eggs=True)\n",
    "\n",
    "print(f'{pet.name} needs a heat lamp? {pet.needs_heat_lamp}')"
   ]
  },
  {
   "cell_type": "markdown",
   "metadata": {},
   "source": [
    "***\n",
    "## Extract Animal from Pet\n",
    "- Pet class is becoming complex"
   ]
  },
  {
   "cell_type": "code",
   "execution_count": 31,
   "metadata": {},
   "outputs": [],
   "source": [
    "# Keeping track of your pet's needs\n",
    "\n",
    "class Animal:\n",
    "    def __init__(self, age=None, *, has_scales=False, lays_eggs=False, drinks_milk=False):\n",
    "\n",
    "        self.age = age\n",
    "        self.has_scales = has_scales\n",
    "        self.lays_eggs = lays_eggs\n",
    "        self.drinks_milk = drinks_milk    \n",
    "\n",
    "class Pet:\n",
    "    def __init__(self, name, animal=None):\n",
    "        self.name = name\n",
    "        self.animal = animal\n",
    "        self.treats_eaten = 0\n",
    "        \n",
    "    @property\n",
    "    def age(self):\n",
    "        return self.animal.age\n",
    "        \n",
    "    def give_treats(self, count):\n",
    "        self.treats_eaten += count\n",
    "        \n",
    "    @property\n",
    "    def needs_heat_lamp(self):\n",
    "        return (self.animal.has_scales and self.animal.lays_eggs and not self.animal.drinks_milk)"
   ]
  },
  {
   "cell_type": "code",
   "execution_count": 34,
   "metadata": {},
   "outputs": [
    {
     "name": "stdout",
     "output_type": "stream",
     "text": [
      "Gregory the Gila is 3 years old\n",
      "Gregory the Gila needs a heat lamp? True\n"
     ]
    }
   ],
   "source": [
    "animal = Animal(3, has_scales=True, lays_eggs=True)\n",
    "\n",
    "pet = Pet('Gregory the Gila', animal)\n",
    "\n",
    "print(f'{pet.name} is {pet.age} years old')\n",
    "\n",
    "print(f'{pet.name} needs a heat lamp? {pet.needs_heat_lamp}')"
   ]
  },
  {
   "cell_type": "code",
   "execution_count": null,
   "metadata": {},
   "outputs": [],
   "source": []
  }
 ],
 "metadata": {
  "kernelspec": {
   "display_name": "Python 3",
   "language": "python",
   "name": "python3"
  },
  "language_info": {
   "codemirror_mode": {
    "name": "ipython",
    "version": 3
   },
   "file_extension": ".py",
   "mimetype": "text/x-python",
   "name": "python",
   "nbconvert_exporter": "python",
   "pygments_lexer": "ipython3",
   "version": "3.7.6"
  }
 },
 "nbformat": 4,
 "nbformat_minor": 2
}
